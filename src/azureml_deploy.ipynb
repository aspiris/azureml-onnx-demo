{
 "cells": [
  {
   "cell_type": "markdown",
   "id": "7cdc0201",
   "metadata": {},
   "source": [
    "# Training a model on Iris dataset and deploying it with Azure ML\n",
    "\n",
    "Companion code to the blog post at: ..."
   ]
  },
  {
   "cell_type": "markdown",
   "id": "c9141581",
   "metadata": {},
   "source": [
    "## Model Training"
   ]
  },
  {
   "cell_type": "markdown",
   "id": "3ac2deb9",
   "metadata": {},
   "source": [
    "### Load the Iris dataset"
   ]
  },
  {
   "cell_type": "code",
   "execution_count": null,
   "id": "ba5b1814",
   "metadata": {},
   "outputs": [],
   "source": [
    "import pandas as pd\n",
    "from sklearn.datasets import load_iris\n",
    "\n",
    "# get the dataset\n",
    "iris = load_iris()\n",
    "\n",
    "# Features\n",
    "X = iris.data\n",
    "\n",
    "# Labels\n",
    "y = iris.target\n",
    "\n",
    "# Combine features and labels into a DataFrame for easy viewing\n",
    "iris_df = pd.DataFrame(X, columns=iris.feature_names)\n",
    "iris_df['species'] = pd.Categorical.from_codes(y, iris.target_names)\n",
    "\n",
    "print(iris_df.head())"
   ]
  },
  {
   "cell_type": "markdown",
   "id": "6d22be66",
   "metadata": {},
   "source": [
    "### Train the model"
   ]
  },
  {
   "cell_type": "code",
   "execution_count": null,
   "id": "42daf710",
   "metadata": {},
   "outputs": [],
   "source": [
    "from sklearn.model_selection import train_test_split\n",
    "from sklearn.ensemble import RandomForestClassifier\n",
    "from sklearn.metrics import accuracy_score, classification_report\n",
    "\n",
    "# Split the data into training and test sets\n",
    "X_train, X_test, y_train, y_test = train_test_split(\n",
    "    X, y, test_size=0.2, random_state=42\n",
    ")\n",
    "\n",
    "model = RandomForestClassifier(n_estimators=100, random_state=42)\n",
    "\n",
    "# Train the model\n",
    "model.fit(X_train, y_train)"
   ]
  },
  {
   "cell_type": "markdown",
   "id": "cb768da1",
   "metadata": {},
   "source": [
    "### Run a prediction and print classification report"
   ]
  },
  {
   "cell_type": "code",
   "execution_count": null,
   "id": "f60f6e8b",
   "metadata": {},
   "outputs": [],
   "source": [
    "y_pred = model.predict(X_test)\n",
    "\n",
    "accuracy = accuracy_score(y_test, y_pred)\n",
    "print(\"Accuracy:\", accuracy)\n",
    "\n",
    "print(\"\\nClassification Report:\")\n",
    "print(classification_report(y_test, y_pred, target_names=iris.target_names))\n"
   ]
  },
  {
   "cell_type": "markdown",
   "id": "c38073fd",
   "metadata": {},
   "source": [
    "### Export to ONNX format"
   ]
  },
  {
   "cell_type": "code",
   "execution_count": null,
   "id": "caae0ada",
   "metadata": {},
   "outputs": [],
   "source": [
    "from skl2onnx import convert_sklearn\n",
    "from skl2onnx.common.data_types import FloatTensorType\n",
    "\n",
    "# Define the initial type based on the shape of training data\n",
    "initial_type = [('float_input', FloatTensorType([None, X_train.shape[1]]))]\n",
    "\n",
    "# Convert the scikit-learn model to ONNX\n",
    "onnx_model = convert_sklearn(model, initial_types=initial_type)\n",
    "\n",
    "# Save the ONNX model to a file\n",
    "with open(\"iris_rf_model.onnx\", \"wb\") as f:\n",
    "    f.write(onnx_model.SerializeToString())\n",
    "\n",
    "print(\"Model exported to iris_rf_model.onnx\")"
   ]
  },
  {
   "attachments": {
    "image.png": {
     "image/png": "[encoded data removed]"
    }
   },
   "cell_type": "markdown",
   "id": "756f1670",
   "metadata": {},
   "source": [
    "At this point, you should have the model exported. You can use [Netron](https://netron.app/) to view the model, which should look like this:\n",
    "\n",
    "![image.png](attachment:image.png)"
   ]
  },
  {
   "cell_type": "markdown",
   "id": "6a599899",
   "metadata": {},
   "source": [
    "### Test predictions using ONNX runtime"
   ]
  },
  {
   "cell_type": "code",
   "execution_count": null,
   "id": "1658c48c",
   "metadata": {},
   "outputs": [],
   "source": [
    "import numpy as np\n",
    "import onnxruntime as rt\n",
    "\n",
    "# Create ONNX Runtime session\n",
    "session = rt.InferenceSession(\"iris_rf_model.onnx\")\n",
    "\n",
    "# Prepare sample input data (must be float32)\n",
    "sample = np.array([[5.1, 3.5, 1.4, 0.2]], dtype=np.float32)\n",
    "\n",
    "# Get input and output names\n",
    "input_name = session.get_inputs()[0].name\n",
    "output_name = session.get_outputs()[0].name\n",
    "\n",
    "# Run inference\n",
    "pred_onx = session.run([output_name], {input_name: sample})[0]\n",
    "\n",
    "print(\"ONNX model prediction:\", iris.target_names[pred_onx][0])"
   ]
  },
  {
   "cell_type": "markdown",
   "id": "ac761fe4",
   "metadata": {},
   "source": [
    "## Deployment\n",
    "\n",
    "There are mutliple ways to deploy a model to Azure ML for inference - serverless and online endpoints for real-time inference, and batch endpoints for long-running batch inference. We're going to deploy an online endpoint for real-time inference."
   ]
  },
  {
   "cell_type": "markdown",
   "id": "b4b42884",
   "metadata": {},
   "source": [
    "### Create an Azure ML workspace\n",
    "\n",
    "Azure ML Workspace is the top-level container for your ML project which will house the models and their versions, the training and inference environments, etc. See: https://learn.microsoft.com/en-us/azure/machine-learning/concept-endpoints?view=azureml-api-2#intuition for container level view of how endpoints, deployments, environments and models are packaged together. \n",
    "\n",
    "I'd recommend using either azure-cli or the online portal (https://ml.azure.com/) to create the workspace. Once created, get the subscription id, and resource group by clicking on the workspace at the top-right in the portal.\n"
   ]
  },
  {
   "cell_type": "markdown",
   "id": "53574551",
   "metadata": {},
   "source": [
    "### Connect to your Azure ML Workspace"
   ]
  },
  {
   "cell_type": "code",
   "execution_count": null,
   "id": "ac1dd41d",
   "metadata": {},
   "outputs": [],
   "source": [
    "from azure.identity import DefaultAzureCredential\n",
    "from azure.ai.ml import MLClient\n",
    "\n",
    "# subscription_id = '<SUBSCRIPTION_ID>'\n",
    "# resource_group = '<RESOURCE_GROUP>'\n",
    "# workspace = '<AZUREML_WORKSPACE_NAME>'\n",
    "subscription_id = \"30f15185-d6df-4a7e-9ed2-fb56484c0512\"\n",
    "resource_group = \"health-analyzer\"\n",
    "workspace_name = \"health-analyzer\"\n",
    "\n",
    "credential = DefaultAzureCredential()\n",
    "ml_client = MLClient(credential, subscription_id, resource_group, workspace_name)\n",
    "\n",
    "print(\"Connected to Azure ML workspace:\", ml_client.workspace_name)"
   ]
  },
  {
   "cell_type": "markdown",
   "id": "275185ce",
   "metadata": {},
   "source": [
    "### Register the ONNX model\n",
    "\n",
    "This registers the version of the model, which can then be used to create online endpoints."
   ]
  },
  {
   "cell_type": "code",
   "execution_count": null,
   "id": "05326223",
   "metadata": {},
   "outputs": [],
   "source": [
    "from azure.ai.ml.entities import Model\n",
    "\n",
    "model = Model(\n",
    "    path=\"iris_rf_model.onnx\",\n",
    "    name=\"iris-rf-onnx\",\n",
    "    description=\"Random Forest model trained on Iris dataset (ONNX format)\",\n",
    "    type=\"custom_model\",\n",
    ")\n",
    "\n",
    "registered_model = ml_client.models.create_or_update(model)\n",
    "\n",
    "print(f\"Registered model: {registered_model.name}, version: {registered_model.version}\")"
   ]
  },
  {
   "cell_type": "markdown",
   "id": "8eedb520",
   "metadata": {},
   "source": [
    "### Test locally with inference HTTP server\n",
    "\n",
    "It is highly recommended to test your scoring script and the model prediction locally before pushing it to Azure ML. If you're following along with the blog post, here are the steps to do that: "
   ]
  },
  {
   "cell_type": "markdown",
   "id": "324c0e1e",
   "metadata": {},
   "source": [
    "### Define the endpoint\n",
    "\n",
    "Now we're ready to define the endpoint, environment, and the deployment."
   ]
  },
  {
   "cell_type": "code",
   "execution_count": null,
   "id": "e68744c3",
   "metadata": {},
   "outputs": [],
   "source": [
    "from azure.ai.ml.entities import ManagedOnlineEndpoint\n",
    "\n",
    "endpoint = ManagedOnlineEndpoint(\n",
    "    name=\"iris-rf-endpoint\",\n",
    "    description=\"Online endpoint for Iris RF ONNX model\",\n",
    "    auth_mode=\"key\"\n",
    ")\n",
    "\n",
    "ml_client.online_endpoints.begin_create_or_update(endpoint).wait()\n",
    "\n",
    "print(f\"Endpoint '{endpoint.name}' created.\")"
   ]
  },
  {
   "cell_type": "markdown",
   "id": "dc1a984a",
   "metadata": {},
   "source": [
    "### Define the environment\n",
    "\n",
    "The environment defines the runtime and dependencies for your model inference."
   ]
  },
  {
   "cell_type": "code",
   "execution_count": null,
   "id": "3f2f449f",
   "metadata": {},
   "outputs": [],
   "source": [
    "from azure.ai.ml.entities import Environment, ManagedOnlineDeployment, CodeConfiguration\n",
    "\n",
    "# Register the environment\n",
    "env = Environment(\n",
    "    name=\"iris-rf-onnx-env\",\n",
    "    image=\"mcr.microsoft.com/azureml/openmpi4.1.0-ubuntu20.04\",\n",
    "    conda_file=\"./conda.yml\",\n",
    "    description=\"Environment for ONNX model inference\",\n",
    ")\n",
    "\n",
    "ml_client.environments.create_or_update(env)"
   ]
  },
  {
   "cell_type": "markdown",
   "id": "72fcc99a",
   "metadata": {},
   "source": [
    "### Create the deployment\n",
    "\n",
    "Finally, create the deployment. We're creating one deployment (blue) that will handle 100% of traffic."
   ]
  },
  {
   "cell_type": "code",
   "execution_count": null,
   "id": "cd220f1f",
   "metadata": {},
   "outputs": [],
   "source": [
    "\n",
    "deployment = ManagedOnlineDeployment(\n",
    "    name=\"iris-rf-deployment-blue\",\n",
    "    endpoint_name=endpoint.name,\n",
    "    model=registered_model.id,\n",
    "    environment=env,\n",
    "    code_configuration=CodeConfiguration(\n",
    "        code=\"./\",       # folder containing score.py\n",
    "        scoring_script=\"score.py\"\n",
    "    ),\n",
    "    instance_type=\"Standard_DS1_v2\",\n",
    "    instance_count=1\n",
    ")\n",
    "\n",
    "ml_client.online_deployments.begin_create_or_update(deployment).result()"
   ]
  },
  {
   "cell_type": "markdown",
   "id": "486ecaa4",
   "metadata": {},
   "source": [
    "### Check the status"
   ]
  },
  {
   "cell_type": "code",
   "execution_count": null,
   "id": "d1f8c30b",
   "metadata": {},
   "outputs": [],
   "source": [
    "ml_client.online_deployments.get_logs(\n",
    "    name=\"iris-rf-deployment-blue\", endpoint_name=endpoint.name, lines=50\n",
    ")"
   ]
  },
  {
   "cell_type": "markdown",
   "id": "c50c1e36",
   "metadata": {},
   "source": [
    "### Test your deployment & endpoint"
   ]
  },
  {
   "cell_type": "code",
   "execution_count": null,
   "id": "77b23e9b",
   "metadata": {},
   "outputs": [],
   "source": [
    "# test the blue deployment with some sample data\n",
    "ml_client.online_endpoints.invoke(\n",
    "    endpoint_name=endpoint.name,\n",
    "    deployment_name=\"iris-rf-deployment-blue\",\n",
    "    request_file=\"./sample_input.json\",\n",
    ")"
   ]
  },
  {
   "cell_type": "markdown",
   "id": "a348419b",
   "metadata": {},
   "source": [
    "### Cleanup\n",
    "\n",
    "Uncomment and execute to clean up the resources"
   ]
  },
  {
   "cell_type": "code",
   "execution_count": null,
   "id": "e9e470b4",
   "metadata": {},
   "outputs": [],
   "source": [
    "ml_client.online_endpoints.begin_delete(name=endpoint.name)"
   ]
  }
 ],
 "metadata": {
  "kernelspec": {
   "display_name": "azureml-onnx-demo",
   "language": "python",
   "name": "python3"
  },
  "language_info": {
   "codemirror_mode": {
    "name": "ipython",
    "version": 3
   },
   "file_extension": ".py",
   "mimetype": "text/x-python",
   "name": "python",
   "nbconvert_exporter": "python",
   "pygments_lexer": "ipython3",
   "version": "3.13.2"
  }
 },
 "nbformat": 4,
 "nbformat_minor": 5
}
